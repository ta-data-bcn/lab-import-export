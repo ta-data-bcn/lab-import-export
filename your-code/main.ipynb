{
 "cells": [
  {
   "cell_type": "markdown",
   "metadata": {},
   "source": [
    "# Before your start:\n",
    "- Read the README.md file\n",
    "- Comment as much as you can and use the resources in the README.md file\n",
    "- Happy learning!"
   ]
  },
  {
   "cell_type": "markdown",
   "metadata": {},
   "source": [
    "# Challenge 1 - Accessing our database\n",
    "Create a connection to access the sakila database with the ip, user and password provided in class. Take a look at the data. Do some joins in order to have more elaborated tables in a dataframe (you can try first the query in the DBMS and then use it in your notebook).\n"
   ]
  },
  {
   "cell_type": "code",
   "execution_count": 2,
   "metadata": {},
   "outputs": [],
   "source": [
    "# your code here"
   ]
  },
  {
   "cell_type": "markdown",
   "metadata": {},
   "source": [
    "# Challenge 2 - Working with JSON files\n",
    "\n",
    "Import the pandas library."
   ]
  },
  {
   "cell_type": "code",
   "execution_count": 1,
   "metadata": {},
   "outputs": [],
   "source": [
    "import pandas as pd"
   ]
  },
  {
   "cell_type": "markdown",
   "metadata": {},
   "source": [
    "In the next cell, load the data in `nasa.json` in the `data` folder and load it into a pandas dataframe. Name the dataframe `nasa`."
   ]
  },
  {
   "cell_type": "code",
   "execution_count": 2,
   "metadata": {},
   "outputs": [],
   "source": [
    "nasa = pd.read_json(\"../data/nasa.json\")"
   ]
  },
  {
   "cell_type": "markdown",
   "metadata": {},
   "source": [
    "Now that we have loaded the data, let's examine it using the `head()` function."
   ]
  },
  {
   "cell_type": "code",
   "execution_count": 4,
   "metadata": {
    "scrolled": true
   },
   "outputs": [
    {
     "data": {
      "text/html": [
       "<div>\n",
       "<style scoped>\n",
       "    .dataframe tbody tr th:only-of-type {\n",
       "        vertical-align: middle;\n",
       "    }\n",
       "\n",
       "    .dataframe tbody tr th {\n",
       "        vertical-align: top;\n",
       "    }\n",
       "\n",
       "    .dataframe thead th {\n",
       "        text-align: right;\n",
       "    }\n",
       "</style>\n",
       "<table border=\"1\" class=\"dataframe\">\n",
       "  <thead>\n",
       "    <tr style=\"text-align: right;\">\n",
       "      <th></th>\n",
       "      <th>:@computed_region_cbhk_fwbd</th>\n",
       "      <th>:@computed_region_nnqa_25f4</th>\n",
       "      <th>fall</th>\n",
       "      <th>geolocation</th>\n",
       "      <th>id</th>\n",
       "      <th>mass</th>\n",
       "      <th>name</th>\n",
       "      <th>nametype</th>\n",
       "      <th>recclass</th>\n",
       "      <th>reclat</th>\n",
       "      <th>reclong</th>\n",
       "      <th>year</th>\n",
       "    </tr>\n",
       "  </thead>\n",
       "  <tbody>\n",
       "    <tr>\n",
       "      <th>0</th>\n",
       "      <td>NaN</td>\n",
       "      <td>NaN</td>\n",
       "      <td>Fell</td>\n",
       "      <td>{'type': 'Point', 'coordinates': [6.08333, 50....</td>\n",
       "      <td>1</td>\n",
       "      <td>21.0</td>\n",
       "      <td>Aachen</td>\n",
       "      <td>Valid</td>\n",
       "      <td>L5</td>\n",
       "      <td>50.77500</td>\n",
       "      <td>6.08333</td>\n",
       "      <td>1880-01-01T00:00:00.000</td>\n",
       "    </tr>\n",
       "    <tr>\n",
       "      <th>1</th>\n",
       "      <td>NaN</td>\n",
       "      <td>NaN</td>\n",
       "      <td>Fell</td>\n",
       "      <td>{'type': 'Point', 'coordinates': [10.23333, 56...</td>\n",
       "      <td>2</td>\n",
       "      <td>720.0</td>\n",
       "      <td>Aarhus</td>\n",
       "      <td>Valid</td>\n",
       "      <td>H6</td>\n",
       "      <td>56.18333</td>\n",
       "      <td>10.23333</td>\n",
       "      <td>1951-01-01T00:00:00.000</td>\n",
       "    </tr>\n",
       "    <tr>\n",
       "      <th>2</th>\n",
       "      <td>NaN</td>\n",
       "      <td>NaN</td>\n",
       "      <td>Fell</td>\n",
       "      <td>{'type': 'Point', 'coordinates': [-113, 54.216...</td>\n",
       "      <td>6</td>\n",
       "      <td>107000.0</td>\n",
       "      <td>Abee</td>\n",
       "      <td>Valid</td>\n",
       "      <td>EH4</td>\n",
       "      <td>54.21667</td>\n",
       "      <td>-113.00000</td>\n",
       "      <td>1952-01-01T00:00:00.000</td>\n",
       "    </tr>\n",
       "    <tr>\n",
       "      <th>3</th>\n",
       "      <td>NaN</td>\n",
       "      <td>NaN</td>\n",
       "      <td>Fell</td>\n",
       "      <td>{'type': 'Point', 'coordinates': [-99.9, 16.88...</td>\n",
       "      <td>10</td>\n",
       "      <td>1914.0</td>\n",
       "      <td>Acapulco</td>\n",
       "      <td>Valid</td>\n",
       "      <td>Acapulcoite</td>\n",
       "      <td>16.88333</td>\n",
       "      <td>-99.90000</td>\n",
       "      <td>1976-01-01T00:00:00.000</td>\n",
       "    </tr>\n",
       "    <tr>\n",
       "      <th>4</th>\n",
       "      <td>NaN</td>\n",
       "      <td>NaN</td>\n",
       "      <td>Fell</td>\n",
       "      <td>{'type': 'Point', 'coordinates': [-64.95, -33....</td>\n",
       "      <td>370</td>\n",
       "      <td>780.0</td>\n",
       "      <td>Achiras</td>\n",
       "      <td>Valid</td>\n",
       "      <td>L6</td>\n",
       "      <td>-33.16667</td>\n",
       "      <td>-64.95000</td>\n",
       "      <td>1902-01-01T00:00:00.000</td>\n",
       "    </tr>\n",
       "  </tbody>\n",
       "</table>\n",
       "</div>"
      ],
      "text/plain": [
       "   :@computed_region_cbhk_fwbd  :@computed_region_nnqa_25f4  fall  \\\n",
       "0                          NaN                          NaN  Fell   \n",
       "1                          NaN                          NaN  Fell   \n",
       "2                          NaN                          NaN  Fell   \n",
       "3                          NaN                          NaN  Fell   \n",
       "4                          NaN                          NaN  Fell   \n",
       "\n",
       "                                         geolocation   id      mass      name  \\\n",
       "0  {'type': 'Point', 'coordinates': [6.08333, 50....    1      21.0    Aachen   \n",
       "1  {'type': 'Point', 'coordinates': [10.23333, 56...    2     720.0    Aarhus   \n",
       "2  {'type': 'Point', 'coordinates': [-113, 54.216...    6  107000.0      Abee   \n",
       "3  {'type': 'Point', 'coordinates': [-99.9, 16.88...   10    1914.0  Acapulco   \n",
       "4  {'type': 'Point', 'coordinates': [-64.95, -33....  370     780.0   Achiras   \n",
       "\n",
       "  nametype     recclass    reclat    reclong                     year  \n",
       "0    Valid           L5  50.77500    6.08333  1880-01-01T00:00:00.000  \n",
       "1    Valid           H6  56.18333   10.23333  1951-01-01T00:00:00.000  \n",
       "2    Valid          EH4  54.21667 -113.00000  1952-01-01T00:00:00.000  \n",
       "3    Valid  Acapulcoite  16.88333  -99.90000  1976-01-01T00:00:00.000  \n",
       "4    Valid           L6 -33.16667  -64.95000  1902-01-01T00:00:00.000  "
      ]
     },
     "execution_count": 4,
     "metadata": {},
     "output_type": "execute_result"
    }
   ],
   "source": [
    "#The head() function is used to get the first n rows.\n",
    "nasa.head()"
   ]
  },
  {
   "cell_type": "markdown",
   "metadata": {},
   "source": [
    "#### The `value_counts()` function is commonly used in pandas to find the frequency of every value in a column.\n",
    "\n",
    "In the cell below, use the `value_counts()` function to determine the frequency of all types of asteroid landings by applying the function to the `fall` column."
   ]
  },
  {
   "cell_type": "code",
   "execution_count": 8,
   "metadata": {},
   "outputs": [
    {
     "data": {
      "text/plain": [
       "Fell     996\n",
       "Found      4\n",
       "Name: fall, dtype: int64"
      ]
     },
     "execution_count": 8,
     "metadata": {},
     "output_type": "execute_result"
    }
   ],
   "source": [
    "nasa.fall.value_counts()"
   ]
  },
  {
   "cell_type": "markdown",
   "metadata": {},
   "source": [
    "Finally, let's save the dataframe as a json file again. Save the dataframe using the `orient=records` argument and name the file `nasa-output.json`. Remember to save the file inside the `data` folder."
   ]
  },
  {
   "cell_type": "code",
   "execution_count": 12,
   "metadata": {},
   "outputs": [],
   "source": [
    "# Encoding/decoding a Dataframe using 'records' formatted JSON.\n",
    "nasa.to_json(\"../data/nasa.json\", orient='records')\n",
    "\n",
    "# format: [{\"col 1\":\"a\",\"col 2\":\"b\"},{\"col 1\":\"c\",\"col 2\":\"d\"}]'"
   ]
  },
  {
   "cell_type": "markdown",
   "metadata": {},
   "source": [
    "# Challenge 2 - Working with CSV and Other Separated Files\n",
    "\n",
    "CSV files are more commonly used as dataframes. In the cell below, load the file from the URL provided using the `read_csv()` function in pandas. Starting version 0.19 of pandas, you can load a CSV file into a dataframe directly from a URL without having to load the file first and then transform it. The dataset we will be using contains information about NASA shuttles.\n",
    "\n",
    "In the cell below, we define the column names and the URL of the data. Following this cell, read the tst file to a variable called `shuttle`. Since the file does not contain the column names, you must add them yourself using the column names declared in `cols` using the `names` argument. Additionally, a tst file is space separated, make sure you pass ` sep=' '` to the function."
   ]
  },
  {
   "cell_type": "code",
   "execution_count": 13,
   "metadata": {},
   "outputs": [],
   "source": [
    "cols = ['time', 'rad_flow', 'fpv_close', 'fpv_open', 'high', 'bypass', 'bpv_close', 'bpv_open', 'class']\n",
    "tst_url = 'https://archive.ics.uci.edu/ml/machine-learning-databases/statlog/shuttle/shuttle.tst'"
   ]
  },
  {
   "cell_type": "code",
   "execution_count": 16,
   "metadata": {},
   "outputs": [],
   "source": [
    "# Turn shuttle into a pandas dataframe with pd\n",
    "# Data comes from a url\n",
    "# We pass sep='' to automatically detect the separator \n",
    "\n",
    "shuttle = pd.read_csv(tst_url, sep=' ', names=cols)\n",
    "# = pd.read_json(\"../data/nasa.json\")"
   ]
  },
  {
   "cell_type": "markdown",
   "metadata": {},
   "source": [
    "Let's verify that this worked by looking at the `head()` function."
   ]
  },
  {
   "cell_type": "code",
   "execution_count": 15,
   "metadata": {},
   "outputs": [
    {
     "data": {
      "text/html": [
       "<div>\n",
       "<style scoped>\n",
       "    .dataframe tbody tr th:only-of-type {\n",
       "        vertical-align: middle;\n",
       "    }\n",
       "\n",
       "    .dataframe tbody tr th {\n",
       "        vertical-align: top;\n",
       "    }\n",
       "\n",
       "    .dataframe thead th {\n",
       "        text-align: right;\n",
       "    }\n",
       "</style>\n",
       "<table border=\"1\" class=\"dataframe\">\n",
       "  <thead>\n",
       "    <tr style=\"text-align: right;\">\n",
       "      <th></th>\n",
       "      <th>time</th>\n",
       "      <th>rad_flow</th>\n",
       "      <th>fpv_close</th>\n",
       "      <th>fpv_open</th>\n",
       "      <th>high</th>\n",
       "      <th>bypass</th>\n",
       "      <th>bpv_close</th>\n",
       "      <th>bpv_open</th>\n",
       "      <th>class</th>\n",
       "    </tr>\n",
       "  </thead>\n",
       "  <tbody>\n",
       "    <tr>\n",
       "      <th>55</th>\n",
       "      <td>0</td>\n",
       "      <td>81</td>\n",
       "      <td>0</td>\n",
       "      <td>-6</td>\n",
       "      <td>11</td>\n",
       "      <td>25</td>\n",
       "      <td>88</td>\n",
       "      <td>64</td>\n",
       "      <td>4</td>\n",
       "    </tr>\n",
       "    <tr>\n",
       "      <th>56</th>\n",
       "      <td>0</td>\n",
       "      <td>96</td>\n",
       "      <td>0</td>\n",
       "      <td>52</td>\n",
       "      <td>-4</td>\n",
       "      <td>40</td>\n",
       "      <td>44</td>\n",
       "      <td>4</td>\n",
       "      <td>4</td>\n",
       "    </tr>\n",
       "    <tr>\n",
       "      <th>50</th>\n",
       "      <td>-1</td>\n",
       "      <td>89</td>\n",
       "      <td>-7</td>\n",
       "      <td>50</td>\n",
       "      <td>0</td>\n",
       "      <td>39</td>\n",
       "      <td>40</td>\n",
       "      <td>2</td>\n",
       "      <td>1</td>\n",
       "    </tr>\n",
       "    <tr>\n",
       "      <th>53</th>\n",
       "      <td>9</td>\n",
       "      <td>79</td>\n",
       "      <td>0</td>\n",
       "      <td>42</td>\n",
       "      <td>-2</td>\n",
       "      <td>25</td>\n",
       "      <td>37</td>\n",
       "      <td>12</td>\n",
       "      <td>4</td>\n",
       "    </tr>\n",
       "    <tr>\n",
       "      <th>55</th>\n",
       "      <td>2</td>\n",
       "      <td>82</td>\n",
       "      <td>0</td>\n",
       "      <td>54</td>\n",
       "      <td>-6</td>\n",
       "      <td>26</td>\n",
       "      <td>28</td>\n",
       "      <td>2</td>\n",
       "      <td>1</td>\n",
       "    </tr>\n",
       "  </tbody>\n",
       "</table>\n",
       "</div>"
      ],
      "text/plain": [
       "    time  rad_flow  fpv_close  fpv_open  high  bypass  bpv_close  bpv_open  \\\n",
       "55     0        81          0        -6    11      25         88        64   \n",
       "56     0        96          0        52    -4      40         44         4   \n",
       "50    -1        89         -7        50     0      39         40         2   \n",
       "53     9        79          0        42    -2      25         37        12   \n",
       "55     2        82          0        54    -6      26         28         2   \n",
       "\n",
       "    class  \n",
       "55      4  \n",
       "56      4  \n",
       "50      1  \n",
       "53      4  \n",
       "55      1  "
      ]
     },
     "execution_count": 15,
     "metadata": {},
     "output_type": "execute_result"
    }
   ],
   "source": [
    "shuttle.head()"
   ]
  },
  {
   "cell_type": "markdown",
   "metadata": {},
   "source": [
    "To make life easier for us, let's turn this dataframe into a comma separated file by saving it using the `to_csv()` function. Save `shuttle` into the file `shuttle.csv` and ensure the file is comma separated, that we are not saving the index column and that the file is saved inside the `data` folder."
   ]
  },
  {
   "cell_type": "code",
   "execution_count": 17,
   "metadata": {},
   "outputs": [],
   "source": [
    "shuttle.to_csv('../data/shuttle.csv', index=False, sep=',')"
   ]
  },
  {
   "cell_type": "markdown",
   "metadata": {},
   "source": [
    "# Challenge 3 - Working with Excel Files\n",
    "\n",
    "We can also use pandas to convert excel spreadsheets to dataframes. Let's use the `read_excel()` function. In this case, `astronauts.xls` is in the `data` folder. Read this file into a variable called `astronaut`. \n",
    "\n",
    "Note: Make sure to install the `xlrd` library if it is not yet installed."
   ]
  },
  {
   "cell_type": "code",
   "execution_count": 18,
   "metadata": {
    "scrolled": false
   },
   "outputs": [
    {
     "name": "stdout",
     "output_type": "stream",
     "text": [
      "Collecting xlrd\n",
      "  Downloading xlrd-1.2.0-py2.py3-none-any.whl (103 kB)\n",
      "\u001b[K     |████████████████████████████████| 103 kB 2.5 MB/s eta 0:00:01\n",
      "\u001b[?25hInstalling collected packages: xlrd\n",
      "Successfully installed xlrd-1.2.0\n"
     ]
    }
   ],
   "source": [
    "import sys\n",
    "!{sys.executable} -m pip install xlrd"
   ]
  },
  {
   "cell_type": "markdown",
   "metadata": {},
   "source": [
    "Use the `head()` function to inspect the dataframe."
   ]
  },
  {
   "cell_type": "code",
   "execution_count": 26,
   "metadata": {},
   "outputs": [
    {
     "name": "stdout",
     "output_type": "stream",
     "text": [
      "                      Name    Year  Group   Status Birth Date  \\\n",
      "0          Joseph M. Acaba  2004.0   19.0   Active 1967-05-17   \n",
      "1           Loren W. Acton     NaN    NaN  Retired 1936-03-07   \n",
      "2         James C. Adamson  1984.0   10.0  Retired 1946-03-03   \n",
      "3          Thomas D. Akers  1987.0   12.0  Retired 1951-05-20   \n",
      "4              Buzz Aldrin  1963.0    3.0  Retired 1930-01-20   \n",
      "..                     ...     ...    ...      ...        ...   \n",
      "352          David A. Wolf  1990.0   13.0  Retired 1956-08-23   \n",
      "353  Neil W. Woodward III   1998.0   17.0  Retired 1962-07-26   \n",
      "354       Alfred M. Worden  1966.0    5.0  Retired 1932-02-07   \n",
      "355          John W. Young  1962.0    2.0  Retired 1930-09-24   \n",
      "356        George D. Zamka  1998.0   17.0  Retired 1962-06-29   \n",
      "\n",
      "           Birth Place Gender  \\\n",
      "0        Inglewood, CA   Male   \n",
      "1         Lewiston, MT   Male   \n",
      "2           Warsaw, NY   Male   \n",
      "3        St. Louis, MO   Male   \n",
      "4        Montclair, NJ   Male   \n",
      "..                 ...    ...   \n",
      "352   Indianapolis, IN   Male   \n",
      "353        Chicago, IL   Male   \n",
      "354        Jackson, MI   Male   \n",
      "355  San Francisco, CA   Male   \n",
      "356    Jersey City, NJ   Male   \n",
      "\n",
      "                                            Alma Mater  \\\n",
      "0    University of California-Santa Barbara; Univer...   \n",
      "1     Montana State University; University of Colorado   \n",
      "2            US Military Academy; Princeton University   \n",
      "3                         University of Missouri-Rolla   \n",
      "4                             US Military Academy; MIT   \n",
      "..                                                 ...   \n",
      "352              Purdue University; Indiana University   \n",
      "353  MIT; University of Texas-Austin; George Washin...   \n",
      "354        US Military Academy; University of Michigan   \n",
      "355                    Georgia Institute of Technology   \n",
      "356  US Naval Academy; Florida Institute of Technology   \n",
      "\n",
      "          Undergraduate Major                            Graduate Major  \\\n",
      "0                     Geology                                   Geology   \n",
      "1         Engineering Physics                             Solar Physics   \n",
      "2                 Engineering                     Aerospace Engineering   \n",
      "3         Applied Mathematics                       Applied Mathematics   \n",
      "4      Mechanical Engineering                              Astronautics   \n",
      "..                        ...                                       ...   \n",
      "352    Electrical Engineering                                  Medicine   \n",
      "353                   Physics              Physics; Business Management   \n",
      "354          Military Science  Aeronautical & Astronautical Engineering   \n",
      "355  Aeronautical Engineering                                       NaN   \n",
      "356               Mathematics                    Engineering Management   \n",
      "\n",
      "    Military Rank            Military Branch  Space Flights  \\\n",
      "0             NaN                        NaN              2   \n",
      "1             NaN                        NaN              1   \n",
      "2         Colonel          US Army (Retired)              2   \n",
      "3         Colonel     US Air Force (Retired)              4   \n",
      "4         Colonel     US Air Force (Retired)              2   \n",
      "..            ...                        ...            ...   \n",
      "352           NaN                        NaN              3   \n",
      "353     Commander                    US Navy              0   \n",
      "354       Colonel     US Air Force (Retired)              1   \n",
      "355       Captain          US Navy (Retired)              6   \n",
      "356       Colonel  US Marine Corps (Retired)              2   \n",
      "\n",
      "     Space Flight (hr)  Space Walks  Space Walks (hr)  \\\n",
      "0                 3307            2              13.0   \n",
      "1                  190            0               0.0   \n",
      "2                  334            0               0.0   \n",
      "3                  814            4              29.0   \n",
      "4                  289            2               8.0   \n",
      "..                 ...          ...               ...   \n",
      "352               4044            7              41.0   \n",
      "353                  0            0               0.0   \n",
      "354                295            1               0.5   \n",
      "355                835            3              20.0   \n",
      "356                692            0               0.0   \n",
      "\n",
      "                                              Missions Death Date  \\\n",
      "0               STS-119 (Discovery), ISS-31/32 (Soyuz)        NaT   \n",
      "1                                STS 51-F (Challenger)        NaT   \n",
      "2                 STS-28 (Columbia), STS-43 (Atlantis)        NaT   \n",
      "3    STS-41 (Discovery), STS-49 (Endeavor), STS-61 ...        NaT   \n",
      "4                                 Gemini 12, Apollo 11        NaT   \n",
      "..                                                 ...        ...   \n",
      "352  STS-58 (Columbia). STS-86/89 (Atlantis/Endeavo...        NaT   \n",
      "353                                                NaN        NaT   \n",
      "354                                          Apollo 15        NaT   \n",
      "355  Gemini 3, Gemini 10, Apollo 10, Apollo 16, STS...        NaT   \n",
      "356            STS-120 (Discovery), STS-130 (Endeavor)        NaT   \n",
      "\n",
      "    Death Mission  \n",
      "0             NaN  \n",
      "1             NaN  \n",
      "2             NaN  \n",
      "3             NaN  \n",
      "4             NaN  \n",
      "..            ...  \n",
      "352           NaN  \n",
      "353           NaN  \n",
      "354           NaN  \n",
      "355           NaN  \n",
      "356           NaN  \n",
      "\n",
      "[357 rows x 19 columns]\n"
     ]
    }
   ],
   "source": [
    "astronaut = pd.read_excel('../data/astronauts.xls')\n",
    "print(astronaut)"
   ]
  },
  {
   "cell_type": "markdown",
   "metadata": {},
   "source": [
    "Use the `value_counts()` function to find the most popular undergraduate major among all astronauts."
   ]
  },
  {
   "cell_type": "code",
   "execution_count": 23,
   "metadata": {},
   "outputs": [
    {
     "data": {
      "text/plain": [
       "Physics                     35\n",
       "Aerospace Engineering       33\n",
       "Mechanical Engineering      30\n",
       "Aeronautical Engineering    28\n",
       "Electrical Engineering      23\n",
       "                            ..\n",
       "Mathematics; Russian         1\n",
       "Bioscience                   1\n",
       "Accounting                   1\n",
       "Military Engineering         1\n",
       "Military Science             1\n",
       "Name: Undergraduate Major, Length: 83, dtype: int64"
      ]
     },
     "execution_count": 23,
     "metadata": {},
     "output_type": "execute_result"
    }
   ],
   "source": [
    "astronaut['Undergraduate Major'].value_counts()"
   ]
  },
  {
   "cell_type": "markdown",
   "metadata": {},
   "source": [
    "Due to all the commas present in the cells of this file, let's save it as a tab separated csv file. In the cell below, save `astronaut` as a **tab separated file** using the `to_csv` function. Call the file `astronaut.csv`. Remember to remove the index column and save the file in the `data` folder."
   ]
  },
  {
   "cell_type": "code",
   "execution_count": 27,
   "metadata": {},
   "outputs": [],
   "source": [
    "astronaut.to_csv(\"../data/astronaut.csv\", index = False, sep = \" \")"
   ]
  },
  {
   "cell_type": "markdown",
   "metadata": {},
   "source": [
    "# Bonus Challenge - Fertility Dataset\n",
    "\n",
    "Visit the following [URL](https://archive.ics.uci.edu/ml/datasets/Fertility) and retrieve the dataset as well as the column headers. Determine the correct separator and read the file into a variable called `fertility`. Examine the dataframe using the `head()` function. \n",
    "\n",
    "Look in Google for a way to retrieve this data!"
   ]
  },
  {
   "cell_type": "code",
   "execution_count": 15,
   "metadata": {},
   "outputs": [],
   "source": [
    "# your code here"
   ]
  }
 ],
 "metadata": {
  "kernelspec": {
   "display_name": "Python 3",
   "language": "python",
   "name": "python3"
  },
  "language_info": {
   "codemirror_mode": {
    "name": "ipython",
    "version": 3
   },
   "file_extension": ".py",
   "mimetype": "text/x-python",
   "name": "python",
   "nbconvert_exporter": "python",
   "pygments_lexer": "ipython3",
   "version": "3.8.3"
  }
 },
 "nbformat": 4,
 "nbformat_minor": 2
}
